{
 "cells": [
  {
   "cell_type": "code",
   "execution_count": 1,
   "metadata": {},
   "outputs": [
    {
     "name": "stdout",
     "output_type": "stream",
     "text": [
      "I found 9 face(s) in this photograph.\n",
      "A face is located at pixel location Top: 68, Left: 268, Bottom: 147, Right: 347\n",
      "A face is located at pixel location Top: 105, Left: 772, Bottom: 200, Right: 867\n",
      "A face is located at pixel location Top: 196, Left: 508, Bottom: 275, Right: 587\n",
      "A face is located at pixel location Top: 86, Left: 389, Bottom: 181, Right: 483\n",
      "A face is located at pixel location Top: 115, Left: 129, Bottom: 210, Right: 224\n",
      "A face is located at pixel location Top: 341, Left: 158, Bottom: 504, Right: 322\n",
      "A face is located at pixel location Top: 230, Left: 360, Bottom: 325, Right: 455\n",
      "A face is located at pixel location Top: 147, Left: 588, Bottom: 284, Right: 724\n",
      "A face is located at pixel location Top: 240, Left: 854, Bottom: 436, Right: 1051\n"
     ]
    }
   ],
   "source": [
    "from PIL import Image\n",
    "import face_recognition\n",
    "image = face_recognition.load_image_file(\"grp.jpeg\")\n",
    "face_locations = face_recognition.face_locations(image, number_of_times_to_upsample=0, model=\"cnn\")\n",
    "print(\"I found {} face(s) in this photograph.\".format(len(face_locations)))\n",
    "for face_location in face_locations:\n",
    "    # Print the location of each face in this image\n",
    "    top, right, bottom, left = face_location\n",
    "    print(\"A face is located at pixel location Top: {}, Left: {}, Bottom: {}, Right: {}\".format(top, left, bottom, right))\n",
    "    # You can access the actual face itself like this:\n",
    "    face_image = image[top:bottom, left:right]\n",
    "    pil_image = Image.fromarray(face_image)\n",
    "    pil_image.show()"
   ]
  }
 ],
 "metadata": {
  "kernelspec": {
   "display_name": "Python 3",
   "language": "python",
   "name": "python3"
  },
  "language_info": {
   "codemirror_mode": {
    "name": "ipython",
    "version": 3
   },
   "file_extension": ".py",
   "mimetype": "text/x-python",
   "name": "python",
   "nbconvert_exporter": "python",
   "pygments_lexer": "ipython3",
   "version": "3.10.14"
  }
 },
 "nbformat": 4,
 "nbformat_minor": 2
}
